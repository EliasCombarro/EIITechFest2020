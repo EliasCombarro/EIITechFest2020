{
  "nbformat": 4,
  "nbformat_minor": 0,
  "metadata": {
    "kernelspec": {
      "display_name": "Python 3",
      "language": "python",
      "name": "python3"
    },
    "language_info": {
      "codemirror_mode": {
        "name": "ipython",
        "version": 3
      },
      "file_extension": ".py",
      "mimetype": "text/x-python",
      "name": "python",
      "nbconvert_exporter": "python",
      "pygments_lexer": "ipython3",
      "version": "3.6.8"
    },
    "colab": {
      "name": "MaxCut con D-Wave.ipynb",
      "provenance": []
    }
  },
  "cells": [
    {
      "cell_type": "markdown",
      "metadata": {
        "id": "CtIoWlM4fxRm",
        "colab_type": "text"
      },
      "source": [
        "# Resolviendo el modelo de Ising y el problema del corte máximo con un ordenador de D-Wave\n",
        "\n",
        "En este notebook, vamos a utilizar un ordenador cuántico de D-Wave para resolver casos del modelo de Ising que se corresponden con instancias del problema del corte máximo en grafos. \n",
        "\n",
        "El hamiltoniano del modelo de Ising es $$H = \\sum_{i,j=1}^n J_{i,j}Z_iZ_j + \\sum_{i=1}^n h_iZ_i$$ \n",
        "\n",
        "En el caso particular del problema del corte máximo, se tiene $J_{i,j}=1$ y $h_i=0$ para todos los valores $i,j$.\n",
        "\n"
      ]
    },
    {
      "cell_type": "markdown",
      "metadata": {
        "id": "4gkkyceZfxRp",
        "colab_type": "text"
      },
      "source": [
        "Definir el modelo con el que vamos a trabajar es muy sencillo: se reduce a especificar los valores de las conexiones entre pares de qubits y los coeficientes $h_i$. Por ejemplo:"
      ]
    },
    {
      "cell_type": "code",
      "metadata": {
        "id": "-4Nyuue1fxRr",
        "colab_type": "code",
        "colab": {}
      },
      "source": [
        "!pip install dimod\n",
        "import numpy as np\n",
        "import dimod\n",
        "\n",
        "J = {(0,1):1}\n",
        "\n",
        "h = {}\n",
        "model = dimod.BinaryQuadraticModel(h, J, 0.0, dimod.SPIN)\n",
        "\n",
        "print(model)\n"
      ],
      "execution_count": 0,
      "outputs": []
    },
    {
      "cell_type": "markdown",
      "metadata": {
        "id": "0lokn5WKfxRw",
        "colab_type": "text"
      },
      "source": [
        "Podemos resolver el modelo de forma exacta"
      ]
    },
    {
      "cell_type": "code",
      "metadata": {
        "id": "j4o7t7QFfxRy",
        "colab_type": "code",
        "colab": {}
      },
      "source": [
        "from dimod.reference.samplers import ExactSolver\n",
        "sampler = ExactSolver()\n",
        "solution = sampler.sample(model)\n",
        "print(solution)"
      ],
      "execution_count": 0,
      "outputs": []
    },
    {
      "cell_type": "markdown",
      "metadata": {
        "id": "lQl_VSunfxR2",
        "colab_type": "text"
      },
      "source": [
        "O con *simulated annealing* (un método heurístico de optimización para ordenadores clásicos)"
      ]
    },
    {
      "cell_type": "code",
      "metadata": {
        "id": "CpnbYP19fxR3",
        "colab_type": "code",
        "colab": {}
      },
      "source": [
        "sampler = dimod.SimulatedAnnealingSampler()\n",
        "response = sampler.sample(model, num_reads=10)\n",
        "print(response)"
      ],
      "execution_count": 0,
      "outputs": []
    },
    {
      "cell_type": "markdown",
      "metadata": {
        "id": "7AjwV2LmfxR7",
        "colab_type": "text"
      },
      "source": [
        "Y, por supuesto, con el ordenador cuántico de D-Wave (requiere registro online en https://cloud.dwavesys.com/leap/ y anadir el token personal al ejecutar la configuración)."
      ]
    },
    {
      "cell_type": "code",
      "metadata": {
        "id": "VQH7aylKfxR8",
        "colab_type": "code",
        "colab": {}
      },
      "source": [
        "!pip install dwave-ocean-sdk \n",
        "!dwave config create"
      ],
      "execution_count": 0,
      "outputs": []
    },
    {
      "cell_type": "code",
      "metadata": {
        "id": "_sEXrlcIfxSA",
        "colab_type": "code",
        "colab": {}
      },
      "source": [
        "from dwave.system.samplers import DWaveSampler\n",
        "from dwave.system.composites import EmbeddingComposite\n",
        "sampler = EmbeddingComposite(DWaveSampler())\n",
        "response = sampler.sample(model, num_reads=5000)\n",
        "print(response)"
      ],
      "execution_count": 0,
      "outputs": []
    },
    {
      "cell_type": "markdown",
      "metadata": {
        "collapsed": true,
        "id": "PuxyZP_1fxSG",
        "colab_type": "text"
      },
      "source": [
        "Veamos ahora un caso un poco más complicado, que se corresponde con encontrar un corte máximo en el grafo de la figura\n",
        "\n",
        "<img src=\"https://github.com/EliasCombarro/EIITechFest2020/blob/master/Images/max-cut.png?raw=1\" width=\"60%\">"
      ]
    },
    {
      "cell_type": "code",
      "metadata": {
        "id": "xpgp5qmdfxSH",
        "colab_type": "code",
        "colab": {}
      },
      "source": [
        "J = {(0,1):1,(0,2):1,(1,2):1,(1,3):1,(2,4):1,(3,4):1}\n",
        "h = {}\n",
        "model = dimod.BinaryQuadraticModel(h, J, 0.0, dimod.SPIN)"
      ],
      "execution_count": 0,
      "outputs": []
    },
    {
      "cell_type": "markdown",
      "metadata": {
        "id": "Eaf_JkTGfxSK",
        "colab_type": "text"
      },
      "source": [
        "Primero lo resolvemos de forma exacta"
      ]
    },
    {
      "cell_type": "code",
      "metadata": {
        "id": "ZlOD5EM9fxSL",
        "colab_type": "code",
        "colab": {}
      },
      "source": [
        "sampler = ExactSolver()\n",
        "solution = sampler.sample(model)\n",
        "print(solution)"
      ],
      "execution_count": 0,
      "outputs": []
    },
    {
      "cell_type": "markdown",
      "metadata": {
        "id": "wO8r53HbfxSP",
        "colab_type": "text"
      },
      "source": [
        "Ahora, con *simulated annealing*"
      ]
    },
    {
      "cell_type": "code",
      "metadata": {
        "id": "mJTxVxqMfxSQ",
        "colab_type": "code",
        "colab": {}
      },
      "source": [
        "sampler = dimod.SimulatedAnnealingSampler()\n",
        "response = sampler.sample(model, num_reads=10)\n",
        "print(response)"
      ],
      "execution_count": 0,
      "outputs": []
    },
    {
      "cell_type": "markdown",
      "metadata": {
        "id": "-HGt4q-wfxSU",
        "colab_type": "text"
      },
      "source": [
        "Finalmente, lo resolvemos nuevamente con el *quantum annealer*"
      ]
    },
    {
      "cell_type": "code",
      "metadata": {
        "id": "vTiK0PkXfxSV",
        "colab_type": "code",
        "colab": {}
      },
      "source": [
        "sampler = EmbeddingComposite(DWaveSampler())\n",
        "response = sampler.sample(model, num_reads=5000)\n",
        "print(response)"
      ],
      "execution_count": 0,
      "outputs": []
    }
  ]
}